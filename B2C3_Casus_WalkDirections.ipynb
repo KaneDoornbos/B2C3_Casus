{
 "cells": [
  {
   "cell_type": "code",
   "execution_count": 62,
   "metadata": {},
   "outputs": [],
   "source": [
    "import pandas as pd\n",
    "import numpy as np\n",
    "import matplotlib.pyplot as plt\n",
    "import seaborn as sns\n",
    "\n",
    "from sklearn.cluster import KMeans\n",
    "from sklearn.model_selection import train_test_split\n",
    "from sklearn.ensemble import RandomForestClassifier\n",
    "from sklearn.metrics import accuracy_score, classification_report\n",
    "from sklearn.preprocessing import StandardScaler\n",
    "from sklearn.impute import SimpleImputer\n",
    "from sklearn.metrics import confusion_matrix, precision_score, recall_score, f1_score\n",
    "\n"
   ]
  },
  {
   "cell_type": "code",
   "execution_count": 63,
   "metadata": {},
   "outputs": [],
   "source": [
    "# Laden van de dataset\n",
    "dataset = pd.read_csv('./CasusData.csv')  # Vervang 'jouw_bestandsnaam.csv' door de werkelijke bestandsnaam\n"
   ]
  },
  {
   "cell_type": "markdown",
   "metadata": {},
   "source": [
    "# Data Preprocessing\n",
    "### 1. Negeren van WAP's met een waarde van 100"
   ]
  },
  {
   "cell_type": "code",
   "execution_count": 64,
   "metadata": {},
   "outputs": [],
   "source": [
    "# # Negeren van WAP's met een waarde van 100\n",
    "# mask = ~(dataset == 100).any(axis=1)"
   ]
  },
  {
   "cell_type": "markdown",
   "metadata": {},
   "source": [
    "### 2. Behandeling van ontbrekende waarden"
   ]
  },
  {
   "cell_type": "code",
   "execution_count": 65,
   "metadata": {},
   "outputs": [
    {
     "name": "stdout",
     "output_type": "stream",
     "text": [
      "Dataset na filtering en imputatie:\n",
      "   WAP001  WAP002  WAP003  WAP004  WAP005  WAP006  WAP007  WAP008  WAP009  \\\n",
      "0   100.0   100.0   100.0   100.0   100.0   100.0   100.0   100.0   100.0   \n",
      "1   100.0   100.0   100.0   100.0   100.0   100.0   100.0   100.0   100.0   \n",
      "2   100.0   100.0   100.0   100.0   100.0   100.0   100.0   -97.0   100.0   \n",
      "3   100.0   100.0   100.0   100.0   100.0   100.0   100.0   100.0   100.0   \n",
      "4   100.0   100.0   100.0   100.0   100.0   100.0   100.0   100.0   100.0   \n",
      "\n",
      "   WAP010  ...  WAP520  LONGITUDE      LATITUDE  FLOOR  BUILDINGID  SPACEID  \\\n",
      "0   100.0  ...   100.0 -7541.2643  4.864921e+06    2.0         1.0    106.0   \n",
      "1   100.0  ...   100.0 -7536.6212  4.864934e+06    2.0         1.0    106.0   \n",
      "2   100.0  ...   100.0 -7519.1524  4.864950e+06    2.0         1.0    103.0   \n",
      "3   100.0  ...   100.0 -7524.5704  4.864934e+06    2.0         1.0    102.0   \n",
      "4   100.0  ...   100.0 -7632.1436  4.864982e+06    0.0         0.0    122.0   \n",
      "\n",
      "   RELATIVEPOSITION  USERID  PHONEID     TIMESTAMP  \n",
      "0               2.0     2.0     23.0  1.371714e+09  \n",
      "1               2.0     2.0     23.0  1.371714e+09  \n",
      "2               2.0     2.0     23.0  1.371714e+09  \n",
      "3               2.0     2.0     23.0  1.371714e+09  \n",
      "4               2.0    11.0     13.0  1.369910e+09  \n",
      "\n",
      "[5 rows x 529 columns]\n"
     ]
    }
   ],
   "source": [
    " # Behandeling van ontbrekende waarden\n",
    "imputer = SimpleImputer(strategy='mean')\n",
    "dataset_imputed = pd.DataFrame(imputer.fit_transform(dataset), columns=dataset.columns)\n",
    "\n",
    "print(\"Dataset na filtering en imputatie:\")\n",
    "print(dataset_imputed.head())\n"
   ]
  },
  {
   "cell_type": "markdown",
   "metadata": {},
   "source": [
    "### 3. Feature scaling"
   ]
  },
  {
   "cell_type": "code",
   "execution_count": 66,
   "metadata": {},
   "outputs": [],
   "source": [
    "# 3. Feature scaling (normalisatie)\n",
    "# Hier gebruiken we StandardScaler om de features te normaliseren.\n",
    "scaler = StandardScaler()\n",
    "features_scaled = scaler.fit_transform(dataset_imputed.iloc[:, :520])"
   ]
  },
  {
   "cell_type": "markdown",
   "metadata": {},
   "source": [
    "### 4. K-means clustering voor groepering van locaties"
   ]
  },
  {
   "cell_type": "code",
   "execution_count": 67,
   "metadata": {},
   "outputs": [
    {
     "name": "stdout",
     "output_type": "stream",
     "text": [
      "Dataset na clustering:\n",
      "   WAP001  WAP002  WAP003  WAP004  WAP005  WAP006  WAP007  WAP008  WAP009  \\\n",
      "0   100.0   100.0   100.0   100.0   100.0   100.0   100.0   100.0   100.0   \n",
      "1   100.0   100.0   100.0   100.0   100.0   100.0   100.0   100.0   100.0   \n",
      "2   100.0   100.0   100.0   100.0   100.0   100.0   100.0   -97.0   100.0   \n",
      "3   100.0   100.0   100.0   100.0   100.0   100.0   100.0   100.0   100.0   \n",
      "4   100.0   100.0   100.0   100.0   100.0   100.0   100.0   100.0   100.0   \n",
      "\n",
      "   WAP010  ...  LONGITUDE      LATITUDE  FLOOR  BUILDINGID  SPACEID  \\\n",
      "0   100.0  ... -7541.2643  4.864921e+06    2.0         1.0    106.0   \n",
      "1   100.0  ... -7536.6212  4.864934e+06    2.0         1.0    106.0   \n",
      "2   100.0  ... -7519.1524  4.864950e+06    2.0         1.0    103.0   \n",
      "3   100.0  ... -7524.5704  4.864934e+06    2.0         1.0    102.0   \n",
      "4   100.0  ... -7632.1436  4.864982e+06    0.0         0.0    122.0   \n",
      "\n",
      "   RELATIVEPOSITION  USERID  PHONEID     TIMESTAMP  LOCATION_CLUSTER  \n",
      "0               2.0     2.0     23.0  1.371714e+09                 2  \n",
      "1               2.0     2.0     23.0  1.371714e+09                 2  \n",
      "2               2.0     2.0     23.0  1.371714e+09                 2  \n",
      "3               2.0     2.0     23.0  1.371714e+09                 2  \n",
      "4               2.0    11.0     13.0  1.369910e+09                 2  \n",
      "\n",
      "[5 rows x 530 columns]\n"
     ]
    }
   ],
   "source": [
    "# 4. K-means clustering voor groepering van locaties\n",
    "features_scaled = scaler.fit_transform(dataset_imputed.iloc[:, :520])\n",
    "kmeans = KMeans(n_clusters=3, random_state=42)\n",
    "dataset_imputed['LOCATION_CLUSTER'] = kmeans.fit_predict(features_scaled)\n",
    "\n",
    "print(\"Dataset na clustering:\")\n",
    "print(dataset_imputed.head())\n"
   ]
  },
  {
   "cell_type": "code",
   "execution_count": 68,
   "metadata": {},
   "outputs": [
    {
     "data": {
      "image/png": "[encoded data removed]",
      "text/plain": [
       "<Figure size 432x288 with 1 Axes>"
      ]
     },
     "metadata": {
      "needs_background": "light"
     },
     "output_type": "display_data"
    }
   ],
   "source": [
    "# Visualisatie van de locatieclusters\n",
    "sns.scatterplot(x='LONGITUDE', y='LATITUDE', hue='LOCATION_CLUSTER', data=dataset_imputed)\n",
    "plt.title(\"Locatieclusters na K-means clustering\")\n",
    "plt.show()"
   ]
  },
  {
   "cell_type": "markdown",
   "metadata": {},
   "source": [
    "### 5. Nieuwe kolom: WALKING_PATTERN"
   ]
  },
  {
   "cell_type": "code",
   "execution_count": 69,
   "metadata": {},
   "outputs": [
    {
     "name": "stdout",
     "output_type": "stream",
     "text": [
      "Index(['WAP001', 'WAP002', 'WAP003', 'WAP004', 'WAP005', 'WAP006', 'WAP007',\n",
      "       'WAP008', 'WAP009', 'WAP010',\n",
      "       ...\n",
      "       'LONGITUDE', 'LATITUDE', 'FLOOR', 'BUILDINGID', 'SPACEID',\n",
      "       'RELATIVEPOSITION', 'USERID', 'PHONEID', 'TIMESTAMP',\n",
      "       'LOCATION_CLUSTER'],\n",
      "      dtype='object', length=530)\n"
     ]
    }
   ],
   "source": [
    "print(dataset_imputed.columns)"
   ]
  },
  {
   "cell_type": "code",
   "execution_count": 72,
   "metadata": {},
   "outputs": [],
   "source": [
    "# 5. Nieuwe kolom: WALKING_PATTERN (bijvoorbeeld op basis van locatieverandering)\n",
    "dataset_imputed['WALKING_PATTERN'] = ((dataset_imputed['LATITUDE'].diff() != 0) | (dataset_imputed['LONGITUDE'].diff() != 0)).astype(int)"
   ]
  },
  {
   "cell_type": "code",
   "execution_count": 73,
   "metadata": {},
   "outputs": [
    {
     "name": "stdout",
     "output_type": "stream",
     "text": [
      "Index(['WAP001', 'WAP002', 'WAP003', 'WAP004', 'WAP005', 'WAP006', 'WAP007',\n",
      "       'WAP008', 'WAP009', 'WAP010',\n",
      "       ...\n",
      "       'LATITUDE', 'FLOOR', 'BUILDINGID', 'SPACEID', 'RELATIVEPOSITION',\n",
      "       'USERID', 'PHONEID', 'TIMESTAMP', 'LOCATION_CLUSTER',\n",
      "       'WALKING_PATTERN'],\n",
      "      dtype='object', length=531)\n"
     ]
    }
   ],
   "source": [
    "print(dataset_imputed.columns)"
   ]
  },
  {
   "cell_type": "code",
   "execution_count": 74,
   "metadata": {},
   "outputs": [
    {
     "data": {
      "image/png": "[encoded data removed]",
      "text/plain": [
       "<Figure size 432x288 with 1 Axes>"
      ]
     },
     "metadata": {
      "needs_background": "light"
     },
     "output_type": "display_data"
    }
   ],
   "source": [
    "# Visualisatie van het wandelpatroon op de originele dataset\n",
    "sns.countplot(x='WALKING_PATTERN', data=dataset_imputed)\n",
    "plt.title(\"Verdeling van wandelrichting\")\n",
    "plt.show()"
   ]
  },
  {
   "cell_type": "markdown",
   "metadata": {},
   "source": [
    "### 6. Groeperen op individuele gebruikers"
   ]
  },
  {
   "cell_type": "code",
   "execution_count": null,
   "metadata": {},
   "outputs": [
    {
     "name": "stdout",
     "output_type": "stream",
     "text": [
      "Groeperen op USERID:\n",
      "   USERID  WALKING_DIRECTION  LOCATION_CLUSTER\n",
      "0     1.0                  1                 2\n",
      "1     2.0                  1                 2\n",
      "2     3.0                  1                 0\n",
      "3     4.0                  1                 2\n",
      "4     5.0                  1                 2\n"
     ]
    }
   ],
   "source": [
    "# Feature engineering voor wandelrichting op basis van patronen\n",
    "dataset_imputed['WALKING_DIRECTION'] = dataset_imputed['LATITUDE'].diff().apply(lambda x: 1 if x > 0 else 0)\n",
    "\n",
    "# Groeperen op individuele gebruikers\n",
    "grouped_data = dataset_imputed.groupby('USERID').agg({\n",
    "    'WALKING_DIRECTION': 'max',  # Aggregeer de wandelrichting (max waarde over tijd)\n",
    "    'LOCATION_CLUSTER': 'max',  # Aggregeer de locatiecluster (max waarde over tijd)\n",
    "    # Voeg andere gewenste aggregaties toe voor extra informatie\n",
    "}).reset_index()\n",
    "\n",
    "print(\"Groeperen op USERID:\")\n",
    "print(grouped_data.head())"
   ]
  },
  {
   "cell_type": "code",
   "execution_count": 75,
   "metadata": {},
   "outputs": [
    {
     "data": {
      "image/png": "[encoded data removed]",
      "text/plain": [
       "<Figure size 432x288 with 1 Axes>"
      ]
     },
     "metadata": {
      "needs_background": "light"
     },
     "output_type": "display_data"
    }
   ],
   "source": [
    "# Visualisatie van de locatieclusters\n",
    "sns.countplot(x='LOCATION_CLUSTER', data=grouped_data)\n",
    "plt.title(\"Verdeling van locatieclusters\")\n",
    "plt.show()"
   ]
  },
  {
   "cell_type": "code",
   "execution_count": null,
   "metadata": {},
   "outputs": [
    {
     "name": "stdout",
     "output_type": "stream",
     "text": [
      "Index(['USERID', 'WALKING_DIRECTION', 'LOCATION_CLUSTER'], dtype='object')\n"
     ]
    }
   ],
   "source": [
    "print(grouped_data.columns)"
   ]
  },
  {
   "cell_type": "code",
   "execution_count": null,
   "metadata": {},
   "outputs": [
    {
     "data": {
      "image/png": "[encoded data removed]",
      "text/plain": [
       "<Figure size 432x288 with 1 Axes>"
      ]
     },
     "metadata": {
      "needs_background": "light"
     },
     "output_type": "display_data"
    }
   ],
   "source": [
    "# Visualisatie van het wandelpatroon op de originele dataset\n",
    "sns.countplot(x='WALKING_DIRECTION', data=grouped_data)\n",
    "plt.title(\"Verdeling van wandelpatroon\")\n",
    "plt.show()"
   ]
  },
  {
   "cell_type": "code",
   "execution_count": null,
   "metadata": {},
   "outputs": [],
   "source": [
    "# Doelvariabele\n",
    "target = grouped_data['WALKING_DIRECTION']\n",
    "\n",
    "# Features voor voorspelling (bijvoorbeeld locatiecluster)\n",
    "features_grouped = grouped_data[['LOCATION_CLUSTER']]"
   ]
  },
  {
   "cell_type": "code",
   "execution_count": null,
   "metadata": {},
   "outputs": [
    {
     "data": {
      "text/plain": [
       "RandomForestClassifier(random_state=42)"
      ]
     },
     "execution_count": 17,
     "metadata": {},
     "output_type": "execute_result"
    }
   ],
   "source": [
    "# Split de data in trainings- en testsets\n",
    "X_train, X_test, y_train, y_test = train_test_split(features_grouped, target, test_size=0.2, random_state=42)\n",
    "\n",
    "# Train een Random Forest Classifier\n",
    "classifier = RandomForestClassifier(n_estimators=100, random_state=42)\n",
    "classifier.fit(X_train, y_train)"
   ]
  },
  {
   "cell_type": "code",
   "execution_count": null,
   "metadata": {},
   "outputs": [],
   "source": [
    "# Voorspel de WALKING_PATTERN op de trainingsset\n",
    "train_predictions = classifier.predict(X_train)"
   ]
  },
  {
   "cell_type": "markdown",
   "metadata": {},
   "source": [
    "### Eenvoudige analyse"
   ]
  },
  {
   "cell_type": "code",
   "execution_count": null,
   "metadata": {},
   "outputs": [
    {
     "name": "stdout",
     "output_type": "stream",
     "text": [
      "Accuracy: 1.00\n"
     ]
    }
   ],
   "source": [
    "# Voorspel de WALKING_DIRECTION op de testset\n",
    "predictions = classifier.predict(X_test)\n",
    "\n",
    "# Evaluatie van het model\n",
    "accuracy = accuracy_score(y_test, predictions)\n",
    "print(f'Accuracy: {accuracy:.2f}')"
   ]
  },
  {
   "cell_type": "code",
   "execution_count": null,
   "metadata": {},
   "outputs": [
    {
     "name": "stdout",
     "output_type": "stream",
     "text": [
      "Train Accuracy: 1.00\n",
      "Train Classification Report:\n",
      "               precision    recall  f1-score   support\n",
      "\n",
      "           1       1.00      1.00      1.00        14\n",
      "\n",
      "    accuracy                           1.00        14\n",
      "   macro avg       1.00      1.00      1.00        14\n",
      "weighted avg       1.00      1.00      1.00        14\n",
      "\n"
     ]
    }
   ],
   "source": [
    "# Evaluatie van het model op de trainingsset\n",
    "train_accuracy = accuracy_score(y_train, train_predictions)\n",
    "print(f'Train Accuracy: {train_accuracy:.2f}')\n",
    "\n",
    "# Gedetailleerde evaluatie op de trainingsset\n",
    "print('Train Classification Report:\\n', classification_report(y_train, train_predictions))\n"
   ]
  },
  {
   "cell_type": "code",
   "execution_count": null,
   "metadata": {},
   "outputs": [
    {
     "name": "stdout",
     "output_type": "stream",
     "text": [
      "Train Confusion Matrix:\n",
      " [[14]]\n"
     ]
    }
   ],
   "source": [
    "# Confusion Matrix op de trainingsset\n",
    "train_conf_matrix = confusion_matrix(y_train, train_predictions)\n",
    "print('Train Confusion Matrix:\\n', train_conf_matrix)"
   ]
  },
  {
   "cell_type": "code",
   "execution_count": null,
   "metadata": {},
   "outputs": [
    {
     "name": "stdout",
     "output_type": "stream",
     "text": [
      "Test Accuracy: 1.00\n"
     ]
    }
   ],
   "source": [
    "# Evaluatie van het model op de testset\n",
    "test_accuracy = accuracy_score(y_test, predictions)\n",
    "print(f'Test Accuracy: {test_accuracy:.2f}')"
   ]
  },
  {
   "cell_type": "code",
   "execution_count": null,
   "metadata": {},
   "outputs": [
    {
     "name": "stdout",
     "output_type": "stream",
     "text": [
      "Test Classification Report:\n",
      "               precision    recall  f1-score   support\n",
      "\n",
      "           1       1.00      1.00      1.00         4\n",
      "\n",
      "    accuracy                           1.00         4\n",
      "   macro avg       1.00      1.00      1.00         4\n",
      "weighted avg       1.00      1.00      1.00         4\n",
      "\n"
     ]
    }
   ],
   "source": [
    "# Gedetailleerde evaluatie op de testset\n",
    "print('Test Classification Report:\\n', classification_report(y_test, predictions))\n"
   ]
  },
  {
   "cell_type": "code",
   "execution_count": null,
   "metadata": {},
   "outputs": [
    {
     "name": "stdout",
     "output_type": "stream",
     "text": [
      "Test Confusion Matrix:\n",
      " [[4]]\n"
     ]
    }
   ],
   "source": [
    "# Confusion Matrix op de testset\n",
    "test_conf_matrix = confusion_matrix(y_test, predictions)\n",
    "print('Test Confusion Matrix:\\n', test_conf_matrix)"
   ]
  },
  {
   "cell_type": "code",
   "execution_count": 76,
   "metadata": {},
   "outputs": [
    {
     "data": {
      "image/png": "[encoded data removed]",
      "text/plain": [
       "<Figure size 432x288 with 1 Axes>"
      ]
     },
     "metadata": {
      "needs_background": "light"
     },
     "output_type": "display_data"
    }
   ],
   "source": [
    "# Visualisatie van de Confusion Matrix op de testset\n",
    "sns.heatmap(test_conf_matrix, annot=True, fmt='d', cmap='Blues', cbar=False)\n",
    "plt.title('Confusion Matrix - Testset')\n",
    "plt.xlabel('Voorspelde Label')\n",
    "plt.ylabel('Werkelijke Label')\n",
    "plt.show()"
   ]
  }
 ],
 "metadata": {
  "kernelspec": {
   "display_name": "Python 3",
   "language": "python",
   "name": "python3"
  },
  "language_info": {
   "codemirror_mode": {
    "name": "ipython",
    "version": 3
   },
   "file_extension": ".py",
   "mimetype": "text/x-python",
   "name": "python",
   "nbconvert_exporter": "python",
   "pygments_lexer": "ipython3",
   "version": "3.10.2"
  }
 },
 "nbformat": 4,
 "nbformat_minor": 2
}
